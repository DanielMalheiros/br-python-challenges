{
 "cells": [
  {
   "cell_type": "markdown",
   "metadata": {
    "colab_type": "text",
    "id": "view-in-github"
   },
   "source": [
    "<a href=\"https://colab.research.google.com/github/WittmannF/br-data-science/blob/master/python/challenges/Desafio_8.ipynb\" target=\"_parent\"><img src=\"https://colab.research.google.com/assets/colab-badge.svg\" alt=\"Open In Colab\"/></a>"
   ]
  },
  {
   "cell_type": "markdown",
   "metadata": {
    "colab_type": "text",
    "id": "o3tkeMDNf6Jo"
   },
   "source": [
    "### Desafio 8\n",
    "\n",
    "Escreva um script Python para encontrar as 10 palavras mais longas em um arquivo.\n",
    "\n",
    "O arquivo TXT está localizado na mesma pasta do projeto (texto.txt)."
   ]
  },
  {
   "cell_type": "code",
   "execution_count": 31,
   "metadata": {
    "colab": {},
    "colab_type": "code",
    "id": "EknxjSG0f6Jo"
   },
   "outputs": [],
   "source": [
    "def dez_palavras_mais_longas(arquivo):\n",
    "    \"\"\"Recebe o path de um arquivo .TXT e identifica as 10 palavras mais longas do mesmo.\"\"\"\n",
    "    texto = open(arquivo, 'r')\n",
    "    lista_de_palavras = texto.read().split()\n",
    "    dez_palavras = []\n",
    "    while len(dez_palavras) < 10:\n",
    "        maior_palavra = max(lista_de_palavras, key=len)\n",
    "        dez_palavras.append(maior_palavra)\n",
    "        lista_de_palavras.remove(maior_palavra)\n",
    "    texto.close()\n",
    "    return dez_palavras\n",
    "            "
   ]
  },
  {
   "cell_type": "code",
   "execution_count": 32,
   "metadata": {
    "colab": {},
    "colab_type": "code",
    "id": "ZYbqEWBG5nKx"
   },
   "outputs": [
    {
     "data": {
      "text/plain": [
       "['general-purpose,',\n",
       " 'object-oriented,',\n",
       " 'comprehensive',\n",
       " 'intermediate)',\n",
       " 'interpreted,',\n",
       " 'language.Its',\n",
       " 'readability,',\n",
       " 'high-level,',\n",
       " 'programming',\n",
       " 'programmers']"
      ]
     },
     "execution_count": 32,
     "metadata": {},
     "output_type": "execute_result"
    }
   ],
   "source": [
    "dez_palavras_mais_longas('texto.txt')"
   ]
  },
  {
   "cell_type": "code",
   "execution_count": null,
   "metadata": {},
   "outputs": [],
   "source": []
  }
 ],
 "metadata": {
  "anaconda-cloud": {},
  "colab": {
   "include_colab_link": true,
   "name": "Desafio 8.ipynb",
   "provenance": []
  },
  "kernelspec": {
   "display_name": "Python 3",
   "language": "python",
   "name": "python3"
  },
  "language_info": {
   "codemirror_mode": {
    "name": "ipython",
    "version": 3
   },
   "file_extension": ".py",
   "mimetype": "text/x-python",
   "name": "python",
   "nbconvert_exporter": "python",
   "pygments_lexer": "ipython3",
   "version": "3.7.4"
  }
 },
 "nbformat": 4,
 "nbformat_minor": 1
}
